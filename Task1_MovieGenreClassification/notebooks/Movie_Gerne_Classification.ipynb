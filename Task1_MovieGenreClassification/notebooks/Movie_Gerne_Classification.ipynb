{
 "cells": [
  {
   "cell_type": "code",
   "execution_count": 1,
   "metadata": {},
   "outputs": [],
   "source": [
    "import pandas as pd\n",
    "import numpy as np\n",
    "import re\n",
    "from nltk.corpus import stopwords\n",
    "from sklearn.feature_extraction.text import TfidfVectorizer"
   ]
  },
  {
   "cell_type": "code",
   "execution_count": 2,
   "metadata": {},
   "outputs": [
    {
     "name": "stdout",
     "output_type": "stream",
     "text": [
      "Training Data:\n",
      "                               title        genre  \\\n",
      "1       Oscar et la dame rose (2009)        drama   \n",
      "2                       Cupid (1997)     thriller   \n",
      "3   Young, Wild and Wonderful (1980)        adult   \n",
      "4              The Secret Sin (1915)        drama   \n",
      "5             The Unrecovered (2007)        drama   \n",
      "6             Quality Control (2011)  documentary   \n",
      "7                 \"Pink Slip\" (2009)       comedy   \n",
      "8               One Step Away (1985)        crime   \n",
      "9           \"Desperate Hours\" (2016)   reality-tv   \n",
      "10                  Spirits (2014/I)       horror   \n",
      "\n",
      "                                          description  \n",
      "1   Listening in to a conversation between his doc...  \n",
      "2   A brother and sister with a past incestuous re...  \n",
      "3   As the bus empties the students for their fiel...  \n",
      "4   To help their unemployed father make ends meet...  \n",
      "5   The film's title refers not only to the un-rec...  \n",
      "6   Quality Control consists of a series of 16mm s...  \n",
      "7   In tough economic times Max and Joey have all ...  \n",
      "8   Ron Petrie (Keanu Reeves) is a troubled teen w...  \n",
      "9   A sudden calamitous event, causing great loss ...  \n",
      "10  Four high school students embark on a terrifyi...  \n",
      "Testing Data:\n",
      "                                         title        genre  \\\n",
      "1                         Edgar's Lunch (1998)     thriller   \n",
      "2                     La guerra de papá (1977)       comedy   \n",
      "3                  Off the Beaten Track (2010)  documentary   \n",
      "4                       Meu Amigo Hindu (2015)        drama   \n",
      "5                            Er nu zhai (1955)        drama   \n",
      "6                           Riddle Room (2016)       horror   \n",
      "7                               L'amica (1969)        drama   \n",
      "8                         Ina Mina Dika (1989)       comedy   \n",
      "9   Equinox Special: Britain's Tornados (2005)  documentary   \n",
      "10                                Press (2011)        drama   \n",
      "\n",
      "                                          description  \n",
      "1   L.R. Brane loves his life - his car, his apart...  \n",
      "2   Spain, March 1964: Quico is a very naughty chi...  \n",
      "3   One year in the life of Albin and his family o...  \n",
      "4   His father has died, he hasn't spoken with his...  \n",
      "5   Before he was known internationally as a marti...  \n",
      "6   Emily Burns is being held captive in a room wi...  \n",
      "7   The beautiful but neglected wife of a brillian...  \n",
      "8   Vasu Inamdar (Ina) suffers from a disorder whe...  \n",
      "9   An insight into the tornados that hit Kensal R...  \n",
      "10  Press is a story of young people overwhelmed b...  \n"
     ]
    }
   ],
   "source": [
    "train_file = r\"C:\\Users\\USER\\Documents\\CODSOFT\\CODSOFT\\Task1_MovieGenreClassification\\data\\Genre Classification Dataset\\train_data.txt\"\n",
    "test_file = r\"C:\\Users\\USER\\Documents\\CODSOFT\\CODSOFT\\Task1_MovieGenreClassification\\data\\Genre Classification Dataset\\test_data_solution.txt\"\n",
    "train_data = pd.read_csv(train_file, sep=':::', names=['title', 'genre', 'description'], engine='python')\n",
    "test_data = pd.read_csv(test_file, sep=':::', names=['title', 'genre', 'description'], engine='python')\n",
    "\n",
    "#Remove space\n",
    "train_data['title'] = train_data['title'].astype(str).str.strip()\n",
    "train_data['genre'] = train_data['genre'].astype(str).str.strip()\n",
    "train_data['description'] = train_data['description'].astype(str).str.strip()\n",
    "\n",
    "test_data['title'] = test_data['title'].astype(str).str.strip()\n",
    "test_data['genre'] = test_data['genre'].astype(str).str.strip()\n",
    "test_data['description'] = test_data['description'].astype(str).str.strip()\n",
    "\n",
    "print(\"Training Data:\")\n",
    "print(train_data.head(10))\n",
    "\n",
    "print(\"Testing Data:\")\n",
    "print(test_data.head(10))\n"
   ]
  },
  {
   "cell_type": "code",
   "execution_count": 3,
   "metadata": {},
   "outputs": [
    {
     "name": "stdout",
     "output_type": "stream",
     "text": [
      "<class 'pandas.core.frame.DataFrame'>\n",
      "Index: 54214 entries, 1 to 54214\n",
      "Data columns (total 3 columns):\n",
      " #   Column       Non-Null Count  Dtype \n",
      "---  ------       --------------  ----- \n",
      " 0   title        54214 non-null  object\n",
      " 1   genre        54214 non-null  object\n",
      " 2   description  54214 non-null  object\n",
      "dtypes: object(3)\n",
      "memory usage: 1.7+ MB\n"
     ]
    }
   ],
   "source": [
    "train_data.info()"
   ]
  },
  {
   "cell_type": "code",
   "execution_count": 4,
   "metadata": {},
   "outputs": [
    {
     "name": "stdout",
     "output_type": "stream",
     "text": [
      "<class 'pandas.core.frame.DataFrame'>\n",
      "Index: 54200 entries, 1 to 54200\n",
      "Data columns (total 3 columns):\n",
      " #   Column       Non-Null Count  Dtype \n",
      "---  ------       --------------  ----- \n",
      " 0   title        54200 non-null  object\n",
      " 1   genre        54200 non-null  object\n",
      " 2   description  54200 non-null  object\n",
      "dtypes: object(3)\n",
      "memory usage: 1.7+ MB\n"
     ]
    }
   ],
   "source": [
    "test_data.info()"
   ]
  },
  {
   "cell_type": "code",
   "execution_count": 5,
   "metadata": {},
   "outputs": [
    {
     "data": {
      "text/plain": [
       "title          0\n",
       "genre          0\n",
       "description    0\n",
       "dtype: int64"
      ]
     },
     "execution_count": 5,
     "metadata": {},
     "output_type": "execute_result"
    }
   ],
   "source": [
    "train_data.isnull().sum()\n",
    "test_data.isnull().sum()"
   ]
  },
  {
   "cell_type": "code",
   "execution_count": 6,
   "metadata": {},
   "outputs": [
    {
     "data": {
      "text/html": [
       "<div>\n",
       "<style scoped>\n",
       "    .dataframe tbody tr th:only-of-type {\n",
       "        vertical-align: middle;\n",
       "    }\n",
       "\n",
       "    .dataframe tbody tr th {\n",
       "        vertical-align: top;\n",
       "    }\n",
       "\n",
       "    .dataframe thead th {\n",
       "        text-align: right;\n",
       "    }\n",
       "</style>\n",
       "<table border=\"1\" class=\"dataframe\">\n",
       "  <thead>\n",
       "    <tr style=\"text-align: right;\">\n",
       "      <th></th>\n",
       "      <th>title</th>\n",
       "      <th>genre</th>\n",
       "      <th>description</th>\n",
       "      <th>length</th>\n",
       "    </tr>\n",
       "  </thead>\n",
       "  <tbody>\n",
       "    <tr>\n",
       "      <th>1</th>\n",
       "      <td>Oscar et la dame rose (2009)</td>\n",
       "      <td>drama</td>\n",
       "      <td>Listening in to a conversation between his doc...</td>\n",
       "      <td>545</td>\n",
       "    </tr>\n",
       "    <tr>\n",
       "      <th>2</th>\n",
       "      <td>Cupid (1997)</td>\n",
       "      <td>thriller</td>\n",
       "      <td>A brother and sister with a past incestuous re...</td>\n",
       "      <td>183</td>\n",
       "    </tr>\n",
       "    <tr>\n",
       "      <th>3</th>\n",
       "      <td>Young, Wild and Wonderful (1980)</td>\n",
       "      <td>adult</td>\n",
       "      <td>As the bus empties the students for their fiel...</td>\n",
       "      <td>649</td>\n",
       "    </tr>\n",
       "    <tr>\n",
       "      <th>4</th>\n",
       "      <td>The Secret Sin (1915)</td>\n",
       "      <td>drama</td>\n",
       "      <td>To help their unemployed father make ends meet...</td>\n",
       "      <td>1081</td>\n",
       "    </tr>\n",
       "    <tr>\n",
       "      <th>5</th>\n",
       "      <td>The Unrecovered (2007)</td>\n",
       "      <td>drama</td>\n",
       "      <td>The film's title refers not only to the un-rec...</td>\n",
       "      <td>624</td>\n",
       "    </tr>\n",
       "  </tbody>\n",
       "</table>\n",
       "</div>"
      ],
      "text/plain": [
       "                              title     genre  \\\n",
       "1      Oscar et la dame rose (2009)     drama   \n",
       "2                      Cupid (1997)  thriller   \n",
       "3  Young, Wild and Wonderful (1980)     adult   \n",
       "4             The Secret Sin (1915)     drama   \n",
       "5            The Unrecovered (2007)     drama   \n",
       "\n",
       "                                         description  length  \n",
       "1  Listening in to a conversation between his doc...     545  \n",
       "2  A brother and sister with a past incestuous re...     183  \n",
       "3  As the bus empties the students for their fiel...     649  \n",
       "4  To help their unemployed father make ends meet...    1081  \n",
       "5  The film's title refers not only to the un-rec...     624  "
      ]
     },
     "execution_count": 6,
     "metadata": {},
     "output_type": "execute_result"
    }
   ],
   "source": [
    "train_data['length']=train_data['description'].apply(len)\n",
    "train_data.head()"
   ]
  },
  {
   "cell_type": "code",
   "execution_count": 7,
   "metadata": {},
   "outputs": [
    {
     "data": {
      "text/plain": [
       "title          object\n",
       "genre          object\n",
       "description    object\n",
       "dtype: object"
      ]
     },
     "execution_count": 7,
     "metadata": {},
     "output_type": "execute_result"
    }
   ],
   "source": [
    "train_data.dtypes\n",
    "test_data.dtypes\n"
   ]
  },
  {
   "cell_type": "code",
   "execution_count": 8,
   "metadata": {},
   "outputs": [
    {
     "name": "stderr",
     "output_type": "stream",
     "text": [
      "[nltk_data] Downloading package stopwords to\n",
      "[nltk_data]     C:\\Users\\USER\\AppData\\Roaming\\nltk_data...\n",
      "[nltk_data]   Package stopwords is already up-to-date!\n"
     ]
    },
    {
     "name": "stdout",
     "output_type": "stream",
     "text": [
      "                   title     genre  \\\n",
      "1  oscar et la dame rose     drama   \n",
      "2                  cupid  thriller   \n",
      "3   young wild wonderful     adult   \n",
      "4             secret sin     drama   \n",
      "5            unrecovered     drama   \n",
      "\n",
      "                                         description  length  \n",
      "1  listening conversation doctor parents yearold ...     545  \n",
      "2  brother sister past incestuous relationship cu...     183  \n",
      "3  bus empties students field trip museum natural...     649  \n",
      "4  help unemployed father make ends meet edith tw...    1081  \n",
      "5  films title refers unrecovered bodies ground z...     624  \n",
      "               title        genre  \\\n",
      "1       edgars lunch     thriller   \n",
      "2  la guerra de papá       comedy   \n",
      "3       beaten track  documentary   \n",
      "4    meu amigo hindu        drama   \n",
      "5         er nu zhai        drama   \n",
      "\n",
      "                                         description  \n",
      "1  lr brane loves life car apartment job especial...  \n",
      "2  spain march quico naughty child three belongin...  \n",
      "3  one year life albin family shepherds north tra...  \n",
      "4  father died hasnt spoken brother years serious...  \n",
      "5  known internationally martial arts superstar b...  \n"
     ]
    }
   ],
   "source": [
    "import nltk\n",
    "nltk.download('stopwords')\n",
    "\n",
    "def clean_text(text):\n",
    "    # Convert to lowercase\n",
    "    text = text.lower()\n",
    "    \n",
    "    # Remove extra spaces\n",
    "    text = re.sub(r'\\s+', ' ', text).strip()\n",
    "    \n",
    "    # Remove numbers\n",
    "    text = re.sub(r'\\d+', '', text)\n",
    "    \n",
    "    # Remove punctuation\n",
    "    text = re.sub(r'[^\\w\\s]', '', text)\n",
    "    \n",
    "    # Remove stopwords \n",
    "    stop_words = set(stopwords.words('english'))\n",
    "    text = ' '.join([word for word in text.split() if word not in stop_words])\n",
    "    \n",
    "    return text\n",
    "\n",
    "train_data['title'] = train_data['title'].apply(clean_text)\n",
    "train_data['description'] = train_data['description'].apply(clean_text)\n",
    "\n",
    "test_data['title'] = test_data['title'].apply(clean_text)\n",
    "test_data['description'] = test_data['description'].apply(clean_text)\n",
    "\n",
    "\n",
    "train_data.dropna(subset=['title', 'genre', 'description'], inplace=True)\n",
    "test_data.dropna(subset=['title', 'genre', 'description'], inplace=True)\n",
    "\n",
    "\n",
    "print(train_data.head())\n",
    "print(test_data.head())\n"
   ]
  },
  {
   "cell_type": "code",
   "execution_count": 9,
   "metadata": {},
   "outputs": [
    {
     "name": "stdout",
     "output_type": "stream",
     "text": [
      "<Compressed Sparse Row sparse matrix of dtype 'float64'\n",
      "\twith 2003977 stored elements and shape (54214, 5000)>\n",
      "  Coords\tValues\n",
      "  (0, 3163)\t0.46680441246150617\n",
      "  (0, 1535)\t0.1405341115498038\n",
      "  (0, 2535)\t0.09962703636907784\n",
      "  (0, 3835)\t0.410895355561455\n",
      "  (0, 2655)\t0.16324421026012875\n",
      "  (0, 959)\t0.13829426524377603\n",
      "  (0, 1300)\t0.11505525457300222\n",
      "  (0, 3209)\t0.09675033116010365\n",
      "  (0, 4978)\t0.11155000768654634\n",
      "  (0, 2591)\t0.10814767972262267\n",
      "  (0, 3056)\t0.1410449308659812\n",
      "  (0, 1000)\t0.13064471239530415\n",
      "  (0, 4436)\t0.10838406133111116\n",
      "  (0, 4875)\t0.12665659810177385\n",
      "  (0, 2659)\t0.1658072631185788\n",
      "  (0, 1861)\t0.15861592044005499\n",
      "  (0, 3666)\t0.1222551995282902\n",
      "  (0, 4181)\t0.1309706790476679\n",
      "  (0, 206)\t0.11984030497857097\n",
      "  (0, 1569)\t0.13675112333539702\n",
      "  (0, 2543)\t0.12000674516983546\n",
      "  (0, 3313)\t0.16420004200124727\n",
      "  (0, 2835)\t0.09066229404246878\n",
      "  (0, 2164)\t0.11712760556547269\n",
      "  (0, 750)\t0.1299544403958376\n",
      "  :\t:\n",
      "  (54212, 3013)\t0.10560382997731643\n",
      "  (54212, 965)\t0.21878502962835478\n",
      "  (54213, 2745)\t0.1197201835372967\n",
      "  (54213, 993)\t0.14316422669397064\n",
      "  (54213, 1117)\t0.11670913115445246\n",
      "  (54213, 2538)\t0.23096349059750448\n",
      "  (54213, 1972)\t0.1457146061594688\n",
      "  (54213, 3236)\t0.18469877658369852\n",
      "  (54213, 165)\t0.19934935322756248\n",
      "  (54213, 2128)\t0.18192897005464934\n",
      "  (54213, 4237)\t0.19757033806839372\n",
      "  (54213, 1555)\t0.1474079870653467\n",
      "  (54213, 1549)\t0.14783186406601195\n",
      "  (54213, 3018)\t0.192165426410946\n",
      "  (54213, 4271)\t0.41949657759049613\n",
      "  (54213, 2326)\t0.20604555231123567\n",
      "  (54213, 4873)\t0.201225232124931\n",
      "  (54213, 388)\t0.2413243689932698\n",
      "  (54213, 684)\t0.16934524903009687\n",
      "  (54213, 4791)\t0.1907734942466459\n",
      "  (54213, 1768)\t0.22650498645652617\n",
      "  (54213, 4911)\t0.23884410708813658\n",
      "  (54213, 1182)\t0.21366602842975327\n",
      "  (54213, 3651)\t0.22551561422530966\n",
      "  (54213, 2200)\t0.25175633024795824\n",
      "<Compressed Sparse Row sparse matrix of dtype 'float64'\n",
      "\twith 2004194 stored elements and shape (54200, 5000)>\n",
      "  Coords\tValues\n",
      "  (0, 38)\t0.13562030176517037\n",
      "  (0, 198)\t0.12149194756989669\n",
      "  (0, 211)\t0.1599435125573594\n",
      "  (0, 397)\t0.11726174889499787\n",
      "  (0, 586)\t0.17380779311640762\n",
      "  (0, 627)\t0.14418120048675837\n",
      "  (0, 932)\t0.19713123908553745\n",
      "  (0, 1117)\t0.1018720576874668\n",
      "  (0, 1526)\t0.1638000654935499\n",
      "  (0, 1546)\t0.1592038076931294\n",
      "  (0, 1550)\t0.12434611718934716\n",
      "  (0, 1583)\t0.32741124659145926\n",
      "  (0, 1738)\t0.15564738759720007\n",
      "  (0, 1917)\t0.14386263327384577\n",
      "  (0, 1942)\t0.16456647167330407\n",
      "  (0, 2437)\t0.12652533166037025\n",
      "  (0, 2631)\t0.14832179605359366\n",
      "  (0, 2706)\t0.15553938096303999\n",
      "  (0, 2718)\t0.22228542519479302\n",
      "  (0, 2886)\t0.14803984518001992\n",
      "  (0, 2894)\t0.17835679275267602\n",
      "  (0, 3098)\t0.21498413103576866\n",
      "  (0, 3123)\t0.1475484885593951\n",
      "  (0, 3547)\t0.19642344606962547\n",
      "  (0, 3756)\t0.13835406852922819\n",
      "  :\t:\n",
      "  (54199, 892)\t0.2163156680456141\n",
      "  (54199, 923)\t0.22133365752625156\n",
      "  (54199, 1043)\t0.176803557267584\n",
      "  (54199, 1104)\t0.19081435816503864\n",
      "  (54199, 1249)\t0.25327586437807253\n",
      "  (54199, 1630)\t0.16983548070833668\n",
      "  (54199, 1821)\t0.2708745962391974\n",
      "  (54199, 1825)\t0.22578635657912088\n",
      "  (54199, 1972)\t0.1315707387690185\n",
      "  (54199, 2182)\t0.12068180798429116\n",
      "  (54199, 2636)\t0.15735151224764196\n",
      "  (54199, 2662)\t0.10252534381240479\n",
      "  (54199, 2685)\t0.1540499220772056\n",
      "  (54199, 2843)\t0.1239851504264501\n",
      "  (54199, 2957)\t0.17013419480472602\n",
      "  (54199, 3224)\t0.18048397193087118\n",
      "  (54199, 3254)\t0.09891046505671965\n",
      "  (54199, 4363)\t0.17447549832237347\n",
      "  (54199, 4403)\t0.16402232851972395\n",
      "  (54199, 4557)\t0.22212144169833822\n",
      "  (54199, 4595)\t0.20136185220121297\n",
      "  (54199, 4872)\t0.16749771526968849\n",
      "  (54199, 4918)\t0.1888365910098776\n",
      "  (54199, 4926)\t0.13293282815233728\n",
      "  (54199, 4995)\t0.22265793451855848\n"
     ]
    }
   ],
   "source": [
    "from sklearn.feature_extraction.text import TfidfVectorizer\n",
    "\n",
    "# Combine title and description into a single text feature\n",
    "train_data['text'] = train_data['title'] + ' ' + train_data['description']\n",
    "test_data['text'] = test_data['title'] + ' ' + test_data['description']\n",
    "\n",
    "# Vectorize the text data using TF-IDF\n",
    "tfidf_vectorizer = TfidfVectorizer(max_features=5000)  \n",
    "X_train = tfidf_vectorizer.fit_transform(train_data['text'])\n",
    "X_test = tfidf_vectorizer.transform(test_data['text'])\n",
    "\n",
    "print(X_train)\n",
    "print(X_test)"
   ]
  },
  {
   "cell_type": "code",
   "execution_count": 10,
   "metadata": {},
   "outputs": [
    {
     "name": "stdout",
     "output_type": "stream",
     "text": [
      "[ 8. 24.  1. ...  7.  5. 12.]\n",
      "[24.  5.  7. ...  1.  8.  8.]\n"
     ]
    }
   ],
   "source": [
    "from sklearn.feature_extraction.text import TfidfVectorizer\n",
    "from sklearn.preprocessing import OrdinalEncoder\n",
    "\n",
    "vectorizer = TfidfVectorizer(max_features=5000)\n",
    "X_train = vectorizer.fit_transform(train_data['description'])\n",
    "X_test = vectorizer.transform(test_data['description'])\n",
    "\n",
    "#  OrdinalEncoder\n",
    "encoder = OrdinalEncoder(handle_unknown='use_encoded_value', unknown_value=-1)\n",
    "y_train = encoder.fit_transform(train_data[['genre']]).ravel()\n",
    "y_test = encoder.transform(test_data[['genre']]).ravel()\n",
    "\n",
    "print(y_train)\n",
    "print(y_test)\n"
   ]
  },
  {
   "cell_type": "code",
   "execution_count": 11,
   "metadata": {},
   "outputs": [
    {
     "name": "stdout",
     "output_type": "stream",
     "text": [
      "0: action\n",
      "1: adult\n",
      "2: adventure\n",
      "3: animation\n",
      "4: biography\n",
      "5: comedy\n",
      "6: crime\n",
      "7: documentary\n",
      "8: drama\n",
      "9: family\n",
      "10: fantasy\n",
      "11: game-show\n",
      "12: history\n",
      "13: horror\n",
      "14: music\n",
      "15: musical\n",
      "16: mystery\n",
      "17: news\n",
      "18: reality-tv\n",
      "19: romance\n",
      "20: sci-fi\n",
      "21: short\n",
      "22: sport\n",
      "23: talk-show\n",
      "24: thriller\n",
      "25: war\n",
      "26: western\n"
     ]
    }
   ],
   "source": [
    "\n",
    "genres_mapping = encoder.categories_[0]\n",
    "\n",
    "for i, genre in enumerate(genres_mapping):\n",
    "    print(f\"{i}: {genre}\")\n"
   ]
  },
  {
   "cell_type": "code",
   "execution_count": 12,
   "metadata": {},
   "outputs": [
    {
     "name": "stdout",
     "output_type": "stream",
     "text": [
      "Classification Report:\n",
      "{'0.0': {'precision': 0.2961599158337717, 'recall': 0.4284627092846271, 'f1-score': 0.35023328149300154, 'support': 1314.0}, '1.0': {'precision': 0.33098591549295775, 'recall': 0.5576271186440678, 'f1-score': 0.4154040404040404, 'support': 590.0}, '2.0': {'precision': 0.17906976744186046, 'recall': 0.29806451612903223, 'f1-score': 0.22372881355932203, 'support': 775.0}, '3.0': {'precision': 0.16129032258064516, 'recall': 0.25100401606425704, 'f1-score': 0.19638648860958366, 'support': 498.0}, '4.0': {'precision': 0.0416141235813367, 'recall': 0.125, 'f1-score': 0.06244087038789026, 'support': 264.0}, '5.0': {'precision': 0.5785344683692205, 'recall': 0.46548482406661296, 'f1-score': 0.5158889633102627, 'support': 7446.0}, '6.0': {'precision': 0.11625874125874126, 'recall': 0.2633663366336634, 'f1-score': 0.16130988477865374, 'support': 505.0}, '7.0': {'precision': 0.7890441701519942, 'recall': 0.5906383628588882, 'f1-score': 0.6755753526354863, 'support': 13096.0}, '8.0': {'precision': 0.6911818514452982, 'recall': 0.4163238319130179, 'f1-score': 0.5196460501581771, 'support': 13612.0}, '9.0': {'precision': 0.14092307692307693, 'recall': 0.29246487867177523, 'f1-score': 0.19019933554817275, 'support': 783.0}, '10.0': {'precision': 0.10403726708074534, 'recall': 0.2080745341614907, 'f1-score': 0.13871635610766045, 'support': 322.0}, '11.0': {'precision': 0.6517412935323383, 'recall': 0.6787564766839378, 'f1-score': 0.6649746192893401, 'support': 193.0}, '12.0': {'precision': 0.06902086677367576, 'recall': 0.17695473251028807, 'f1-score': 0.09930715935334873, 'support': 243.0}, '13.0': {'precision': 0.5381272224417226, 'recall': 0.6179673321234119, 'f1-score': 0.5752903907074973, 'support': 2204.0}, '14.0': {'precision': 0.41231822070145424, 'recall': 0.6593707250341997, 'f1-score': 0.5073684210526316, 'support': 731.0}, '15.0': {'precision': 0.11837455830388692, 'recall': 0.2427536231884058, 'f1-score': 0.15914489311163896, 'support': 276.0}, '16.0': {'precision': 0.10508474576271186, 'recall': 0.1949685534591195, 'f1-score': 0.13656387665198239, 'support': 318.0}, '17.0': {'precision': 0.16428571428571428, 'recall': 0.2541436464088398, 'f1-score': 0.19956616052060738, 'support': 181.0}, '18.0': {'precision': 0.2501611863313991, 'recall': 0.43941109852774635, 'f1-score': 0.3188167625308135, 'support': 883.0}, '19.0': {'precision': 0.13582166925868325, 'recall': 0.3898809523809524, 'f1-score': 0.20146097654748174, 'support': 672.0}, '20.0': {'precision': 0.296259842519685, 'recall': 0.46594427244582043, 'f1-score': 0.3622141997593261, 'support': 646.0}, '21.0': {'precision': 0.40448583919406955, 'recall': 0.4195583596214511, 'f1-score': 0.41188425433078485, 'support': 5072.0}, '22.0': {'precision': 0.327930174563591, 'recall': 0.6102088167053364, 'f1-score': 0.42660178426601786, 'support': 431.0}, '23.0': {'precision': 0.2680722891566265, 'recall': 0.45524296675191817, 'f1-score': 0.33744075829383885, 'support': 391.0}, '24.0': {'precision': 0.2055457746478873, 'recall': 0.29371069182389936, 'f1-score': 0.24184360435007768, 'support': 1590.0}, '25.0': {'precision': 0.1708542713567839, 'recall': 0.5151515151515151, 'f1-score': 0.25660377358490566, 'support': 132.0}, '26.0': {'precision': 0.7424242424242424, 'recall': 0.8546511627906976, 'f1-score': 0.7945945945945946, 'support': 1032.0}, 'accuracy': 0.4743173431734317, 'macro avg': {'precision': 0.30702250116348595, 'recall': 0.41352540940870264, 'f1-score': 0.33863724688656066, 'support': 54200.0}, 'weighted avg': {'precision': 0.5665896818290582, 'recall': 0.4743173431734317, 'f1-score': 0.5025655797128995, 'support': 54200.0}}\n",
      "ROC AUC Score: 0.8847933042974311\n",
      " Accuracy = 0.4743\n"
     ]
    }
   ],
   "source": [
    "from sklearn.metrics import classification_report, roc_auc_score, accuracy_score\n",
    "from sklearn.naive_bayes import MultinomialNB\n",
    "from sklearn.linear_model import LogisticRegression\n",
    "from sklearn.svm import SVC\n",
    "from sklearn.preprocessing import label_binarize\n",
    "from imblearn.over_sampling import SMOTE\n",
    "\n",
    "#class imbalance using SMOTE\n",
    "smote = SMOTE()\n",
    "X_train_balanced, y_train_balanced = smote.fit_resample(X_train, y_train)\n",
    "\n",
    "# Evaluate model\n",
    "lr_model = LogisticRegression(max_iter=1000, solver='liblinear')\n",
    "lr_model.fit(X_train_balanced, y_train_balanced)\n",
    "lr_predictions = lr_model.predict(X_test)\n",
    "lr_report = classification_report(y_test, lr_predictions, zero_division=0, output_dict=True)\n",
    "y_test_binarized = label_binarize(y_test, classes=list(set(y_train)))\n",
    "lr_probabilities = lr_model.predict_proba(X_test)\n",
    "lr_roc_auc = roc_auc_score(y_test_binarized, lr_probabilities, multi_class='ovr')\n",
    "print(\"Classification Report:\")\n",
    "print(lr_report)\n",
    "print(f\"ROC AUC Score: {lr_roc_auc}\")\n",
    "accuracy = accuracy_score(y_test, lr_predictions)\n",
    "print(f' Accuracy = {accuracy:.4f}')\n",
    "\n",
    "\n"
   ]
  }
 ],
 "metadata": {
  "kernelspec": {
   "display_name": "Python 3",
   "language": "python",
   "name": "python3"
  },
  "language_info": {
   "codemirror_mode": {
    "name": "ipython",
    "version": 3
   },
   "file_extension": ".py",
   "mimetype": "text/x-python",
   "name": "python",
   "nbconvert_exporter": "python",
   "pygments_lexer": "ipython3",
   "version": "3.11.9"
  }
 },
 "nbformat": 4,
 "nbformat_minor": 2
}
