{
 "cells": [
  {
   "cell_type": "code",
   "execution_count": 1,
   "metadata": {},
   "outputs": [
    {
     "name": "stdout",
     "output_type": "stream",
     "text": [
      "   Unnamed: 0 trans_date_trans_time  ...  merch_long is_fraud\n",
      "0           0   2019-01-01 00:00:18  ...  -82.048315        0\n",
      "1           1   2019-01-01 00:00:44  ... -118.186462        0\n",
      "2           2   2019-01-01 00:00:51  ... -112.154481        0\n",
      "3           3   2019-01-01 00:01:16  ... -112.561071        0\n",
      "4           4   2019-01-01 00:03:06  ...  -78.632459        0\n",
      "5           5   2019-01-01 00:04:08  ...  -76.152667        0\n",
      "6           6   2019-01-01 00:04:42  ... -100.153370        0\n",
      "7           7   2019-01-01 00:05:08  ...  -78.540296        0\n",
      "8           8   2019-01-01 00:05:18  ...  -79.958146        0\n",
      "9           9   2019-01-01 00:06:01  ...  -87.485381        0\n",
      "\n",
      "[10 rows x 23 columns]\n",
      "   Unnamed: 0 trans_date_trans_time  ...  merch_long is_fraud\n",
      "0           0   2020-06-21 12:14:25  ...  -81.200714        0\n",
      "1           1   2020-06-21 12:14:33  ... -109.960431        0\n",
      "2           2   2020-06-21 12:14:53  ...  -74.196111        0\n",
      "3           3   2020-06-21 12:15:15  ...  -80.883061        0\n",
      "4           4   2020-06-21 12:15:17  ...  -85.884734        0\n",
      "5           5   2020-06-21 12:15:37  ...  -77.584197        0\n",
      "6           6   2020-06-21 12:15:44  ... -124.888729        0\n",
      "7           7   2020-06-21 12:15:50  ...  -97.728453        0\n",
      "8           8   2020-06-21 12:16:10  ...  -78.120238        0\n",
      "9           9   2020-06-21 12:16:11  ...  -96.366185        0\n",
      "\n",
      "[10 rows x 23 columns]\n"
     ]
    }
   ],
   "source": [
    "import pandas as pd\n",
    "\n",
    "\n",
    "Train_data = pd.read_csv(r\"C:\\Users\\USER\\Documents\\CODSOFT\\CODSOFT\\Task2_CreditCardFraudDetection\\data\\archive\\fraudTrain.csv\")\n",
    "Test_data = pd.read_csv(r\"C:\\Users\\USER\\Documents\\CODSOFT\\CODSOFT\\Task2_CreditCardFraudDetection\\data\\archive\\fraudTest.csv\")\n",
    "\n",
    "print(Train_data.head(10))\n",
    "print(Test_data.head(10))\n"
   ]
  },
  {
   "cell_type": "code",
   "execution_count": 2,
   "metadata": {},
   "outputs": [
    {
     "name": "stdout",
     "output_type": "stream",
     "text": [
      "<class 'pandas.core.frame.DataFrame'>\n",
      "RangeIndex: 1296675 entries, 0 to 1296674\n",
      "Data columns (total 23 columns):\n",
      " #   Column                 Non-Null Count    Dtype  \n",
      "---  ------                 --------------    -----  \n",
      " 0   Unnamed: 0             1296675 non-null  int64  \n",
      " 1   trans_date_trans_time  1296675 non-null  object \n",
      " 2   cc_num                 1296675 non-null  int64  \n",
      " 3   merchant               1296675 non-null  object \n",
      " 4   category               1296675 non-null  object \n",
      " 5   amt                    1296675 non-null  float64\n",
      " 6   first                  1296675 non-null  object \n",
      " 7   last                   1296675 non-null  object \n",
      " 8   gender                 1296675 non-null  object \n",
      " 9   street                 1296675 non-null  object \n",
      " 10  city                   1296675 non-null  object \n",
      " 11  state                  1296675 non-null  object \n",
      " 12  zip                    1296675 non-null  int64  \n",
      " 13  lat                    1296675 non-null  float64\n",
      " 14  long                   1296675 non-null  float64\n",
      " 15  city_pop               1296675 non-null  int64  \n",
      " 16  job                    1296675 non-null  object \n",
      " 17  dob                    1296675 non-null  object \n",
      " 18  trans_num              1296675 non-null  object \n",
      " 19  unix_time              1296675 non-null  int64  \n",
      " 20  merch_lat              1296675 non-null  float64\n",
      " 21  merch_long             1296675 non-null  float64\n",
      " 22  is_fraud               1296675 non-null  int64  \n",
      "dtypes: float64(5), int64(6), object(12)\n",
      "memory usage: 227.5+ MB\n",
      "None\n",
      "<class 'pandas.core.frame.DataFrame'>\n",
      "RangeIndex: 555719 entries, 0 to 555718\n",
      "Data columns (total 23 columns):\n",
      " #   Column                 Non-Null Count   Dtype  \n",
      "---  ------                 --------------   -----  \n",
      " 0   Unnamed: 0             555719 non-null  int64  \n",
      " 1   trans_date_trans_time  555719 non-null  object \n",
      " 2   cc_num                 555719 non-null  int64  \n",
      " 3   merchant               555719 non-null  object \n",
      " 4   category               555719 non-null  object \n",
      " 5   amt                    555719 non-null  float64\n",
      " 6   first                  555719 non-null  object \n",
      " 7   last                   555719 non-null  object \n",
      " 8   gender                 555719 non-null  object \n",
      " 9   street                 555719 non-null  object \n",
      " 10  city                   555719 non-null  object \n",
      " 11  state                  555719 non-null  object \n",
      " 12  zip                    555719 non-null  int64  \n",
      " 13  lat                    555719 non-null  float64\n",
      " 14  long                   555719 non-null  float64\n",
      " 15  city_pop               555719 non-null  int64  \n",
      " 16  job                    555719 non-null  object \n",
      " 17  dob                    555719 non-null  object \n",
      " 18  trans_num              555719 non-null  object \n",
      " 19  unix_time              555719 non-null  int64  \n",
      " 20  merch_lat              555719 non-null  float64\n",
      " 21  merch_long             555719 non-null  float64\n",
      " 22  is_fraud               555719 non-null  int64  \n",
      "dtypes: float64(5), int64(6), object(12)\n",
      "memory usage: 97.5+ MB\n",
      "None\n"
     ]
    }
   ],
   "source": [
    "print(Train_data.info())\n",
    "print(Test_data.info())\n",
    "\n",
    "\n"
   ]
  },
  {
   "cell_type": "code",
   "execution_count": 3,
   "metadata": {},
   "outputs": [
    {
     "name": "stdout",
     "output_type": "stream",
     "text": [
      "Unnamed: 0               0\n",
      "trans_date_trans_time    0\n",
      "cc_num                   0\n",
      "merchant                 0\n",
      "category                 0\n",
      "amt                      0\n",
      "first                    0\n",
      "last                     0\n",
      "gender                   0\n",
      "street                   0\n",
      "city                     0\n",
      "state                    0\n",
      "zip                      0\n",
      "lat                      0\n",
      "long                     0\n",
      "city_pop                 0\n",
      "job                      0\n",
      "dob                      0\n",
      "trans_num                0\n",
      "unix_time                0\n",
      "merch_lat                0\n",
      "merch_long               0\n",
      "is_fraud                 0\n",
      "dtype: int64\n",
      "Unnamed: 0               0\n",
      "trans_date_trans_time    0\n",
      "cc_num                   0\n",
      "merchant                 0\n",
      "category                 0\n",
      "amt                      0\n",
      "first                    0\n",
      "last                     0\n",
      "gender                   0\n",
      "street                   0\n",
      "city                     0\n",
      "state                    0\n",
      "zip                      0\n",
      "lat                      0\n",
      "long                     0\n",
      "city_pop                 0\n",
      "job                      0\n",
      "dob                      0\n",
      "trans_num                0\n",
      "unix_time                0\n",
      "merch_lat                0\n",
      "merch_long               0\n",
      "is_fraud                 0\n",
      "dtype: int64\n"
     ]
    }
   ],
   "source": [
    "print(Train_data.isnull().sum())\n",
    "print(Test_data.isnull().sum())"
   ]
  },
  {
   "cell_type": "code",
   "execution_count": 4,
   "metadata": {},
   "outputs": [],
   "source": [
    "import pandas as pd\n",
    "\n",
    "# Convert 'trans_date_trans_time' to datetime\n",
    "Train_data['trans_date_trans_time'] = pd.to_datetime(Train_data['trans_date_trans_time'])\n",
    "Test_data['trans_date_trans_time'] = pd.to_datetime(Test_data['trans_date_trans_time'])\n",
    "\n",
    "for data in [Train_data, Test_data]:\n",
    "    data['year'] = data['trans_date_trans_time'].dt.year\n",
    "    data['month'] = data['trans_date_trans_time'].dt.month\n",
    "    data['day'] = data['trans_date_trans_time'].dt.day\n",
    "    data['hour'] = data['trans_date_trans_time'].dt.hour\n",
    "    data['minute'] = data['trans_date_trans_time'].dt.minute\n",
    "    data['weekday'] = data['trans_date_trans_time'].dt.weekday\n",
    "\n",
    "# Drop the original datetime column if it's no longer needed\n",
    "Train_data.drop('trans_date_trans_time', axis=1, inplace=True)\n",
    "Test_data.drop('trans_date_trans_time', axis=1, inplace=True)\n",
    "\n"
   ]
  },
  {
   "cell_type": "code",
   "execution_count": 5,
   "metadata": {},
   "outputs": [],
   "source": [
    "Train_data['amt_bin'] = pd.cut(Train_data['amt'], bins=[0, 50, 100, 500, 1000], labels=['Low', 'Medium', 'High', 'Very High'])\n",
    "Test_data['amt_bin'] = pd.cut(Test_data['amt'], bins=[0, 50, 100, 500, 1000], labels=['Low', 'Medium', 'High', 'Very High'])"
   ]
  },
  {
   "cell_type": "code",
   "execution_count": 6,
   "metadata": {},
   "outputs": [
    {
     "name": "stdout",
     "output_type": "stream",
     "text": [
      "        category     amt  city_pop  merch_lat  ...  hour  minute  weekday  amt_bin\n",
      "0       misc_net    4.97      3495  36.011293  ...     0       0        1      Low\n",
      "1    grocery_pos  107.23       149  49.159047  ...     0       0        1     High\n",
      "2  entertainment  220.11      4154  43.150704  ...     0       0        1     High\n",
      "3  gas_transport   45.00      1939  47.034331  ...     0       1        1      Low\n",
      "4       misc_pos   41.96        99  38.674999  ...     0       3        1      Low\n",
      "\n",
      "[5 rows x 13 columns]\n",
      "         category    amt  city_pop  merch_lat  ...  hour  minute  weekday  amt_bin\n",
      "0   personal_care   2.86    333497  33.986391  ...    12      14        6      Low\n",
      "1   personal_care  29.84       302  39.450498  ...    12      14        6      Low\n",
      "2  health_fitness  41.28     34496  40.495810  ...    12      14        6      Low\n",
      "3        misc_pos  60.05     54767  28.812398  ...    12      15        6   Medium\n",
      "4          travel   3.19      1126  44.959148  ...    12      15        6      Low\n",
      "\n",
      "[5 rows x 13 columns]\n"
     ]
    }
   ],
   "source": [
    "# Drop Irrlevant columns\n",
    "columns_to_drop = [\n",
    "    'Unnamed: 0',  'cc_num', 'merchant', 'first', 'last', 'street', 'city', 'state', 'zip', 'lat', \n",
    "    'long','job', 'dob', 'trans_num', 'unix_time', 'gender' \n",
    "]\n",
    "\n",
    "Train_data = Train_data.drop(columns=columns_to_drop)\n",
    "Test_data = Test_data.drop(columns=columns_to_drop)\n",
    "\n",
    "\n",
    "print(Train_data.head())\n",
    "print(Test_data.head())"
   ]
  },
  {
   "cell_type": "code",
   "execution_count": 7,
   "metadata": {},
   "outputs": [
    {
     "name": "stdout",
     "output_type": "stream",
     "text": [
      "<class 'pandas.core.frame.DataFrame'>\n",
      "RangeIndex: 1296675 entries, 0 to 1296674\n",
      "Data columns (total 13 columns):\n",
      " #   Column      Non-Null Count    Dtype   \n",
      "---  ------      --------------    -----   \n",
      " 0   category    1296675 non-null  object  \n",
      " 1   amt         1296675 non-null  float64 \n",
      " 2   city_pop    1296675 non-null  int64   \n",
      " 3   merch_lat   1296675 non-null  float64 \n",
      " 4   merch_long  1296675 non-null  float64 \n",
      " 5   is_fraud    1296675 non-null  int64   \n",
      " 6   year        1296675 non-null  int32   \n",
      " 7   month       1296675 non-null  int32   \n",
      " 8   day         1296675 non-null  int32   \n",
      " 9   hour        1296675 non-null  int32   \n",
      " 10  minute      1296675 non-null  int32   \n",
      " 11  weekday     1296675 non-null  int32   \n",
      " 12  amt_bin     1292739 non-null  category\n",
      "dtypes: category(1), float64(3), int32(6), int64(2), object(1)\n",
      "memory usage: 90.3+ MB\n",
      "None\n",
      "<class 'pandas.core.frame.DataFrame'>\n",
      "RangeIndex: 555719 entries, 0 to 555718\n",
      "Data columns (total 13 columns):\n",
      " #   Column      Non-Null Count   Dtype   \n",
      "---  ------      --------------   -----   \n",
      " 0   category    555719 non-null  object  \n",
      " 1   amt         555719 non-null  float64 \n",
      " 2   city_pop    555719 non-null  int64   \n",
      " 3   merch_lat   555719 non-null  float64 \n",
      " 4   merch_long  555719 non-null  float64 \n",
      " 5   is_fraud    555719 non-null  int64   \n",
      " 6   year        555719 non-null  int32   \n",
      " 7   month       555719 non-null  int32   \n",
      " 8   day         555719 non-null  int32   \n",
      " 9   hour        555719 non-null  int32   \n",
      " 10  minute      555719 non-null  int32   \n",
      " 11  weekday     555719 non-null  int32   \n",
      " 12  amt_bin     554136 non-null  category\n",
      "dtypes: category(1), float64(3), int32(6), int64(2), object(1)\n",
      "memory usage: 38.7+ MB\n",
      "None\n"
     ]
    }
   ],
   "source": [
    "print(Train_data.info())\n",
    "print(Test_data.info())\n",
    "\n",
    "\n"
   ]
  },
  {
   "cell_type": "code",
   "execution_count": 8,
   "metadata": {},
   "outputs": [
    {
     "name": "stdout",
     "output_type": "stream",
     "text": [
      "Train_data encoding sample:\n",
      "  amt_bin_encoded\n",
      "0               0\n",
      "1               2\n",
      "2               2\n",
      "3               0\n",
      "4               0\n",
      "Test_data encoding sample:\n",
      "  amt_bin_encoded\n",
      "0               0\n",
      "1               0\n",
      "2               0\n",
      "3               1\n",
      "4               0\n"
     ]
    }
   ],
   "source": [
    "# mapping for amt_bin\n",
    "amt_bin_mapping = {'Low': 0, 'Medium': 1, 'High': 2, 'Very High':3}\n",
    "\n",
    "if 'amt_bin' in Train_data.columns and 'amt_bin' in Test_data.columns:\n",
    "    # Apply mapping to Train_data and Test_data\n",
    "    Train_data['amt_bin_encoded'] = Train_data['amt_bin'].map(amt_bin_mapping)\n",
    "    Test_data['amt_bin_encoded'] = Test_data['amt_bin'].map(amt_bin_mapping)\n",
    "    \n",
    "    # Drop 'amt_bin' column\n",
    "    Train_data = Train_data.drop(columns=['amt_bin'], errors='ignore')\n",
    "    Test_data = Test_data.drop(columns=['amt_bin'], errors='ignore')\n",
    "\n",
    "    # Verify the transformation\n",
    "    print(\"Train_data encoding sample:\")\n",
    "    print(Train_data[['amt_bin_encoded']].head())\n",
    "    print(\"Test_data encoding sample:\")\n",
    "    print(Test_data[['amt_bin_encoded']].head())\n",
    "else:\n",
    "    print(\"'amt_bin' is missing in Train_data or Test_data.\")\n",
    "\n"
   ]
  },
  {
   "cell_type": "code",
   "execution_count": 9,
   "metadata": {},
   "outputs": [
    {
     "name": "stdout",
     "output_type": "stream",
     "text": [
      "<class 'pandas.core.frame.DataFrame'>\n",
      "RangeIndex: 1296675 entries, 0 to 1296674\n",
      "Data columns (total 13 columns):\n",
      " #   Column           Non-Null Count    Dtype   \n",
      "---  ------           --------------    -----   \n",
      " 0   category         1296675 non-null  object  \n",
      " 1   amt              1296675 non-null  float64 \n",
      " 2   city_pop         1296675 non-null  int64   \n",
      " 3   merch_lat        1296675 non-null  float64 \n",
      " 4   merch_long       1296675 non-null  float64 \n",
      " 5   is_fraud         1296675 non-null  int64   \n",
      " 6   year             1296675 non-null  int32   \n",
      " 7   month            1296675 non-null  int32   \n",
      " 8   day              1296675 non-null  int32   \n",
      " 9   hour             1296675 non-null  int32   \n",
      " 10  minute           1296675 non-null  int32   \n",
      " 11  weekday          1296675 non-null  int32   \n",
      " 12  amt_bin_encoded  1292739 non-null  category\n",
      "dtypes: category(1), float64(3), int32(6), int64(2), object(1)\n",
      "memory usage: 90.3+ MB\n",
      "None\n",
      "<class 'pandas.core.frame.DataFrame'>\n",
      "RangeIndex: 555719 entries, 0 to 555718\n",
      "Data columns (total 13 columns):\n",
      " #   Column           Non-Null Count   Dtype   \n",
      "---  ------           --------------   -----   \n",
      " 0   category         555719 non-null  object  \n",
      " 1   amt              555719 non-null  float64 \n",
      " 2   city_pop         555719 non-null  int64   \n",
      " 3   merch_lat        555719 non-null  float64 \n",
      " 4   merch_long       555719 non-null  float64 \n",
      " 5   is_fraud         555719 non-null  int64   \n",
      " 6   year             555719 non-null  int32   \n",
      " 7   month            555719 non-null  int32   \n",
      " 8   day              555719 non-null  int32   \n",
      " 9   hour             555719 non-null  int32   \n",
      " 10  minute           555719 non-null  int32   \n",
      " 11  weekday          555719 non-null  int32   \n",
      " 12  amt_bin_encoded  554136 non-null  category\n",
      "dtypes: category(1), float64(3), int32(6), int64(2), object(1)\n",
      "memory usage: 38.7+ MB\n",
      "None\n"
     ]
    }
   ],
   "source": [
    "print(Train_data.info())\n",
    "print(Test_data.info())\n",
    "\n",
    "\n"
   ]
  },
  {
   "cell_type": "code",
   "execution_count": 10,
   "metadata": {},
   "outputs": [],
   "source": [
    "from sklearn.preprocessing import MinMaxScaler\n",
    "\n",
    "# scale\n",
    "numeric_cols = Train_data.select_dtypes(include=['float64']).columns\n",
    "\n",
    "scaler = MinMaxScaler()\n",
    "Train_data[numeric_cols] = scaler.fit_transform(Train_data[numeric_cols])\n",
    "Test_data[numeric_cols] = scaler.transform(Test_data[numeric_cols])\n"
   ]
  },
  {
   "cell_type": "code",
   "execution_count": 11,
   "metadata": {},
   "outputs": [],
   "source": [
    "Train_data = Train_data.dropna(subset=['amt_bin_encoded'])\n",
    "Test_data = Test_data.dropna(subset=['amt_bin_encoded'])\n",
    "\n",
    "Train_data['amt_bin_encoded'] = Train_data['amt_bin_encoded'].astype('int64')\n",
    "Test_data['amt_bin_encoded'] = Test_data['amt_bin_encoded'].astype('int64')\n"
   ]
  },
  {
   "cell_type": "code",
   "execution_count": 12,
   "metadata": {},
   "outputs": [],
   "source": [
    "from sklearn.preprocessing import LabelEncoder\n",
    "\n",
    "# Label encode object columns\n",
    "label_encoders = {}\n",
    "for col in Train_data.select_dtypes(include=['object']).columns:\n",
    "    le = LabelEncoder()\n",
    "    Train_data[col] = le.fit_transform(Train_data[col])\n",
    "    Test_data[col] = le.transform(Test_data[col])\n",
    "    label_encoders[col] = le  \n"
   ]
  },
  {
   "cell_type": "code",
   "execution_count": 13,
   "metadata": {},
   "outputs": [
    {
     "name": "stdout",
     "output_type": "stream",
     "text": [
      "<class 'pandas.core.frame.DataFrame'>\n",
      "Index: 1292739 entries, 0 to 1296674\n",
      "Data columns (total 13 columns):\n",
      " #   Column           Non-Null Count    Dtype  \n",
      "---  ------           --------------    -----  \n",
      " 0   category         1292739 non-null  int64  \n",
      " 1   amt              1292739 non-null  float64\n",
      " 2   city_pop         1292739 non-null  int64  \n",
      " 3   merch_lat        1292739 non-null  float64\n",
      " 4   merch_long       1292739 non-null  float64\n",
      " 5   is_fraud         1292739 non-null  int64  \n",
      " 6   year             1292739 non-null  int32  \n",
      " 7   month            1292739 non-null  int32  \n",
      " 8   day              1292739 non-null  int32  \n",
      " 9   hour             1292739 non-null  int32  \n",
      " 10  minute           1292739 non-null  int32  \n",
      " 11  weekday          1292739 non-null  int32  \n",
      " 12  amt_bin_encoded  1292739 non-null  int64  \n",
      "dtypes: float64(3), int32(6), int64(4)\n",
      "memory usage: 108.5 MB\n",
      "None\n",
      "<class 'pandas.core.frame.DataFrame'>\n",
      "Index: 554136 entries, 0 to 555718\n",
      "Data columns (total 13 columns):\n",
      " #   Column           Non-Null Count   Dtype  \n",
      "---  ------           --------------   -----  \n",
      " 0   category         554136 non-null  int64  \n",
      " 1   amt              554136 non-null  float64\n",
      " 2   city_pop         554136 non-null  int64  \n",
      " 3   merch_lat        554136 non-null  float64\n",
      " 4   merch_long       554136 non-null  float64\n",
      " 5   is_fraud         554136 non-null  int64  \n",
      " 6   year             554136 non-null  int32  \n",
      " 7   month            554136 non-null  int32  \n",
      " 8   day              554136 non-null  int32  \n",
      " 9   hour             554136 non-null  int32  \n",
      " 10  minute           554136 non-null  int32  \n",
      " 11  weekday          554136 non-null  int32  \n",
      " 12  amt_bin_encoded  554136 non-null  int64  \n",
      "dtypes: float64(3), int32(6), int64(4)\n",
      "memory usage: 46.5 MB\n",
      "None\n"
     ]
    }
   ],
   "source": [
    "print(Train_data.info())\n",
    "print(Test_data.info())\n",
    "\n",
    "\n"
   ]
  },
  {
   "cell_type": "code",
   "execution_count": 14,
   "metadata": {},
   "outputs": [
    {
     "name": "stdout",
     "output_type": "stream",
     "text": [
      "Training features shape: (1292739, 12), Training target shape: (1292739,)\n",
      "Test features shape: (554136, 12), Test target shape: (554136,)\n"
     ]
    }
   ],
   "source": [
    "# Define X and y\n",
    "X_train = Train_data.drop(['is_fraud'], axis=1)\n",
    "y_train = Train_data['is_fraud']\n",
    "\n",
    "X_test = Test_data.drop(['is_fraud'], axis=1)\n",
    "y_test = Test_data['is_fraud']\n",
    "\n",
    "\n",
    "print(f\"Training features shape: {X_train.shape}, Training target shape: {y_train.shape}\")\n",
    "print(f\"Test features shape: {X_test.shape}, Test target shape: {y_test.shape}\")\n"
   ]
  },
  {
   "cell_type": "code",
   "execution_count": 15,
   "metadata": {},
   "outputs": [
    {
     "data": {
      "text/plain": [
       "(         category       amt  city_pop  ...  minute  weekday  amt_bin_encoded\n",
       " 0               8  0.000137      3495  ...       0        1                0\n",
       " 1               4  0.003670       149  ...       0        1                2\n",
       " 2               0  0.007569      4154  ...       0        1                2\n",
       " 3               2  0.001520      1939  ...       1        1                0\n",
       " 4               9  0.001415        99  ...       3        1                0\n",
       " ...           ...       ...       ...  ...     ...      ...              ...\n",
       " 1296670         0  0.000503       258  ...      12        6                0\n",
       " 1296671         1  0.001751       100  ...      12        6                1\n",
       " 1296672         1  0.003625       899  ...      12        6                2\n",
       " 1296673         1  0.002553      1126  ...      13        6                1\n",
       " 1296674         1  0.000114       218  ...      13        6                0\n",
       " \n",
       " [1292739 rows x 12 columns],\n",
       " 0          0\n",
       " 1          0\n",
       " 2          0\n",
       " 3          0\n",
       " 4          0\n",
       "           ..\n",
       " 1296670    0\n",
       " 1296671    0\n",
       " 1296672    0\n",
       " 1296673    0\n",
       " 1296674    0\n",
       " Name: is_fraud, Length: 1292739, dtype: int64)"
      ]
     },
     "execution_count": 15,
     "metadata": {},
     "output_type": "execute_result"
    }
   ],
   "source": [
    "X_train,y_train"
   ]
  },
  {
   "cell_type": "code",
   "execution_count": 16,
   "metadata": {},
   "outputs": [
    {
     "name": "stdout",
     "output_type": "stream",
     "text": [
      "Model - ROC AUC: 0.987349231574286\n",
      "Classification Report: {'0': {'precision': 0.9986687648090872, 'recall': 0.9997591744572825, 'f1-score': 0.9992136721510546, 'support': 552267.0}, '1': {'precision': 0.8949447077409163, 'recall': 0.6062065275548422, 'f1-score': 0.7228070175438597, 'support': 1869.0}, 'accuracy': 0.9984317929172621, 'macro avg': {'precision': 0.9468067362750017, 'recall': 0.8029828510060624, 'f1-score': 0.8610103448474571, 'support': 554136.0}, 'weighted avg': {'precision': 0.9983189224190233, 'recall': 0.9984317929172621, 'f1-score': 0.9982814027488485, 'support': 554136.0}}\n",
      "Accuracy : 0.9984317929172621\n"
     ]
    }
   ],
   "source": [
    "from sklearn.ensemble import RandomForestClassifier\n",
    "from sklearn.metrics import classification_report, roc_auc_score,accuracy_score\n",
    "rf_classifier = RandomForestClassifier(n_estimators=100, max_depth=20, min_samples_split=5, \n",
    "                                       min_samples_leaf=2, bootstrap=True, random_state=42)\n",
    "rf_classifier.fit(X_train, y_train)\n",
    "predictions = rf_classifier.predict(X_test)\n",
    "\n",
    "# classification report\n",
    "report = classification_report(y_test, predictions, output_dict=True)\n",
    "\n",
    "#  ROC AUC score\n",
    "roc_auc = roc_auc_score(y_test, rf_classifier.predict_proba(X_test)[:, 1])\n",
    "#Accuracy\n",
    "accuracy = accuracy_score(y_test, predictions)\n",
    "\n",
    "# evaluation results\n",
    "evaluation_results = {\n",
    "    'classification_report': report,\n",
    "    'roc_auc': roc_auc,\n",
    "    'best_params': {\n",
    "        'n_estimators': 100,\n",
    "        'max_depth': 20,\n",
    "        'min_samples_split': 5,\n",
    "        'min_samples_leaf': 2,\n",
    "        'bootstrap': True\n",
    "    }\n",
    "}\n",
    "\n",
    "#results\n",
    "print(f\"Model - ROC AUC: {roc_auc}\")\n",
    "print(f\"Classification Report: {report}\")\n",
    "print(f\"Accuracy : {accuracy}\")"
   ]
  }
 ],
 "metadata": {
  "kernelspec": {
   "display_name": "Python 3",
   "language": "python",
   "name": "python3"
  },
  "language_info": {
   "name": "python",
   "version": "3.11.9"
  }
 },
 "nbformat": 4,
 "nbformat_minor": 2
}
