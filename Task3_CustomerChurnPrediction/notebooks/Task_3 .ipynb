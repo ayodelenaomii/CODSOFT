{
 "cells": [
  {
   "cell_type": "code",
   "execution_count": null,
   "metadata": {},
   "outputs": [
    {
     "name": "stdout",
     "output_type": "stream",
     "text": [
      "    RowNumber  CustomerId     Surname  CreditScore Geography  Gender  Age  \\\n",
      "0           1    15634602    Hargrave          619    France  Female   42   \n",
      "1           2    15647311        Hill          608     Spain  Female   41   \n",
      "2           3    15619304        Onio          502    France  Female   42   \n",
      "3           4    15701354        Boni          699    France  Female   39   \n",
      "4           5    15737888    Mitchell          850     Spain  Female   43   \n",
      "5           6    15574012         Chu          645     Spain    Male   44   \n",
      "6           7    15592531    Bartlett          822    France    Male   50   \n",
      "7           8    15656148      Obinna          376   Germany  Female   29   \n",
      "8           9    15792365          He          501    France    Male   44   \n",
      "9          10    15592389          H?          684    France    Male   27   \n",
      "10         11    15767821      Bearce          528    France    Male   31   \n",
      "11         12    15737173     Andrews          497     Spain    Male   24   \n",
      "12         13    15632264         Kay          476    France  Female   34   \n",
      "13         14    15691483        Chin          549    France  Female   25   \n",
      "14         15    15600882       Scott          635     Spain  Female   35   \n",
      "15         16    15643966     Goforth          616   Germany    Male   45   \n",
      "16         17    15737452       Romeo          653   Germany    Male   58   \n",
      "17         18    15788218   Henderson          549     Spain  Female   24   \n",
      "18         19    15661507     Muldrow          587     Spain    Male   45   \n",
      "19         20    15568982         Hao          726    France  Female   24   \n",
      "20         21    15577657    McDonald          732    France    Male   41   \n",
      "21         22    15597945    Dellucci          636     Spain  Female   32   \n",
      "22         23    15699309   Gerasimov          510     Spain  Female   38   \n",
      "23         24    15725737      Mosman          669    France    Male   46   \n",
      "24         25    15625047         Yen          846    France  Female   38   \n",
      "25         26    15738191     Maclean          577    France    Male   25   \n",
      "26         27    15736816       Young          756   Germany    Male   36   \n",
      "27         28    15700772     Nebechi          571    France    Male   44   \n",
      "28         29    15728693  McWilliams          574   Germany  Female   43   \n",
      "29         30    15656300    Lucciano          411    France    Male   29   \n",
      "\n",
      "    Tenure    Balance  NumOfProducts  HasCrCard  IsActiveMember  \\\n",
      "0        2       0.00              1          1               1   \n",
      "1        1   83807.86              1          0               1   \n",
      "2        8  159660.80              3          1               0   \n",
      "3        1       0.00              2          0               0   \n",
      "4        2  125510.82              1          1               1   \n",
      "5        8  113755.78              2          1               0   \n",
      "6        7       0.00              2          1               1   \n",
      "7        4  115046.74              4          1               0   \n",
      "8        4  142051.07              2          0               1   \n",
      "9        2  134603.88              1          1               1   \n",
      "10       6  102016.72              2          0               0   \n",
      "11       3       0.00              2          1               0   \n",
      "12      10       0.00              2          1               0   \n",
      "13       5       0.00              2          0               0   \n",
      "14       7       0.00              2          1               1   \n",
      "15       3  143129.41              2          0               1   \n",
      "16       1  132602.88              1          1               0   \n",
      "17       9       0.00              2          1               1   \n",
      "18       6       0.00              1          0               0   \n",
      "19       6       0.00              2          1               1   \n",
      "20       8       0.00              2          1               1   \n",
      "21       8       0.00              2          1               0   \n",
      "22       4       0.00              1          1               0   \n",
      "23       3       0.00              2          0               1   \n",
      "24       5       0.00              1          1               1   \n",
      "25       3       0.00              2          0               1   \n",
      "26       2  136815.64              1          1               1   \n",
      "27       9       0.00              2          0               0   \n",
      "28       3  141349.43              1          1               1   \n",
      "29       0   59697.17              2          1               1   \n",
      "\n",
      "    EstimatedSalary  Exited  \n",
      "0         101348.88       1  \n",
      "1         112542.58       0  \n",
      "2         113931.57       1  \n",
      "3          93826.63       0  \n",
      "4          79084.10       0  \n",
      "5         149756.71       1  \n",
      "6          10062.80       0  \n",
      "7         119346.88       1  \n",
      "8          74940.50       0  \n",
      "9          71725.73       0  \n",
      "10         80181.12       0  \n",
      "11         76390.01       0  \n",
      "12         26260.98       0  \n",
      "13        190857.79       0  \n",
      "14         65951.65       0  \n",
      "15         64327.26       0  \n",
      "16          5097.67       1  \n",
      "17         14406.41       0  \n",
      "18        158684.81       0  \n",
      "19         54724.03       0  \n",
      "20        170886.17       0  \n",
      "21        138555.46       0  \n",
      "22        118913.53       1  \n",
      "23          8487.75       0  \n",
      "24        187616.16       0  \n",
      "25        124508.29       0  \n",
      "26        170041.95       0  \n",
      "27         38433.35       0  \n",
      "28        100187.43       0  \n",
      "29         53483.21       0  \n"
     ]
    }
   ],
   "source": [
    "import pandas as pd\n",
    "\n",
    "Data = pd.read_csv(r\"C:\\Users\\USER\\Documents\\CODSOFT\\CODSOFT\\Task3_CustomerChurnPrediction\\data\\Churn_Modelling.csv\")\n",
    "print(Data.head(30))"
   ]
  },
  {
   "cell_type": "code",
   "execution_count": 4,
   "metadata": {},
   "outputs": [
    {
     "name": "stdout",
     "output_type": "stream",
     "text": [
      "<class 'pandas.core.frame.DataFrame'>\n",
      "RangeIndex: 10000 entries, 0 to 9999\n",
      "Data columns (total 14 columns):\n",
      " #   Column           Non-Null Count  Dtype  \n",
      "---  ------           --------------  -----  \n",
      " 0   RowNumber        10000 non-null  int64  \n",
      " 1   CustomerId       10000 non-null  int64  \n",
      " 2   Surname          10000 non-null  object \n",
      " 3   CreditScore      10000 non-null  int64  \n",
      " 4   Geography        10000 non-null  object \n",
      " 5   Gender           10000 non-null  object \n",
      " 6   Age              10000 non-null  int64  \n",
      " 7   Tenure           10000 non-null  int64  \n",
      " 8   Balance          10000 non-null  float64\n",
      " 9   NumOfProducts    10000 non-null  int64  \n",
      " 10  HasCrCard        10000 non-null  int64  \n",
      " 11  IsActiveMember   10000 non-null  int64  \n",
      " 12  EstimatedSalary  10000 non-null  float64\n",
      " 13  Exited           10000 non-null  int64  \n",
      "dtypes: float64(2), int64(9), object(3)\n",
      "memory usage: 1.1+ MB\n"
     ]
    }
   ],
   "source": [
    "Data.info()"
   ]
  },
  {
   "cell_type": "code",
   "execution_count": 5,
   "metadata": {},
   "outputs": [
    {
     "data": {
      "text/html": [
       "<div>\n",
       "<style scoped>\n",
       "    .dataframe tbody tr th:only-of-type {\n",
       "        vertical-align: middle;\n",
       "    }\n",
       "\n",
       "    .dataframe tbody tr th {\n",
       "        vertical-align: top;\n",
       "    }\n",
       "\n",
       "    .dataframe thead th {\n",
       "        text-align: right;\n",
       "    }\n",
       "</style>\n",
       "<table border=\"1\" class=\"dataframe\">\n",
       "  <thead>\n",
       "    <tr style=\"text-align: right;\">\n",
       "      <th></th>\n",
       "      <th>CreditScore</th>\n",
       "      <th>Geography</th>\n",
       "      <th>Gender</th>\n",
       "      <th>Age</th>\n",
       "      <th>Tenure</th>\n",
       "      <th>Balance</th>\n",
       "      <th>NumOfProducts</th>\n",
       "      <th>HasCrCard</th>\n",
       "      <th>IsActiveMember</th>\n",
       "      <th>EstimatedSalary</th>\n",
       "      <th>Exited</th>\n",
       "    </tr>\n",
       "  </thead>\n",
       "  <tbody>\n",
       "    <tr>\n",
       "      <th>0</th>\n",
       "      <td>619</td>\n",
       "      <td>France</td>\n",
       "      <td>Female</td>\n",
       "      <td>42</td>\n",
       "      <td>2</td>\n",
       "      <td>0.00</td>\n",
       "      <td>1</td>\n",
       "      <td>1</td>\n",
       "      <td>1</td>\n",
       "      <td>101348.88</td>\n",
       "      <td>1</td>\n",
       "    </tr>\n",
       "    <tr>\n",
       "      <th>1</th>\n",
       "      <td>608</td>\n",
       "      <td>Spain</td>\n",
       "      <td>Female</td>\n",
       "      <td>41</td>\n",
       "      <td>1</td>\n",
       "      <td>83807.86</td>\n",
       "      <td>1</td>\n",
       "      <td>0</td>\n",
       "      <td>1</td>\n",
       "      <td>112542.58</td>\n",
       "      <td>0</td>\n",
       "    </tr>\n",
       "    <tr>\n",
       "      <th>2</th>\n",
       "      <td>502</td>\n",
       "      <td>France</td>\n",
       "      <td>Female</td>\n",
       "      <td>42</td>\n",
       "      <td>8</td>\n",
       "      <td>159660.80</td>\n",
       "      <td>3</td>\n",
       "      <td>1</td>\n",
       "      <td>0</td>\n",
       "      <td>113931.57</td>\n",
       "      <td>1</td>\n",
       "    </tr>\n",
       "    <tr>\n",
       "      <th>3</th>\n",
       "      <td>699</td>\n",
       "      <td>France</td>\n",
       "      <td>Female</td>\n",
       "      <td>39</td>\n",
       "      <td>1</td>\n",
       "      <td>0.00</td>\n",
       "      <td>2</td>\n",
       "      <td>0</td>\n",
       "      <td>0</td>\n",
       "      <td>93826.63</td>\n",
       "      <td>0</td>\n",
       "    </tr>\n",
       "    <tr>\n",
       "      <th>4</th>\n",
       "      <td>850</td>\n",
       "      <td>Spain</td>\n",
       "      <td>Female</td>\n",
       "      <td>43</td>\n",
       "      <td>2</td>\n",
       "      <td>125510.82</td>\n",
       "      <td>1</td>\n",
       "      <td>1</td>\n",
       "      <td>1</td>\n",
       "      <td>79084.10</td>\n",
       "      <td>0</td>\n",
       "    </tr>\n",
       "    <tr>\n",
       "      <th>5</th>\n",
       "      <td>645</td>\n",
       "      <td>Spain</td>\n",
       "      <td>Male</td>\n",
       "      <td>44</td>\n",
       "      <td>8</td>\n",
       "      <td>113755.78</td>\n",
       "      <td>2</td>\n",
       "      <td>1</td>\n",
       "      <td>0</td>\n",
       "      <td>149756.71</td>\n",
       "      <td>1</td>\n",
       "    </tr>\n",
       "    <tr>\n",
       "      <th>6</th>\n",
       "      <td>822</td>\n",
       "      <td>France</td>\n",
       "      <td>Male</td>\n",
       "      <td>50</td>\n",
       "      <td>7</td>\n",
       "      <td>0.00</td>\n",
       "      <td>2</td>\n",
       "      <td>1</td>\n",
       "      <td>1</td>\n",
       "      <td>10062.80</td>\n",
       "      <td>0</td>\n",
       "    </tr>\n",
       "    <tr>\n",
       "      <th>7</th>\n",
       "      <td>376</td>\n",
       "      <td>Germany</td>\n",
       "      <td>Female</td>\n",
       "      <td>29</td>\n",
       "      <td>4</td>\n",
       "      <td>115046.74</td>\n",
       "      <td>4</td>\n",
       "      <td>1</td>\n",
       "      <td>0</td>\n",
       "      <td>119346.88</td>\n",
       "      <td>1</td>\n",
       "    </tr>\n",
       "    <tr>\n",
       "      <th>8</th>\n",
       "      <td>501</td>\n",
       "      <td>France</td>\n",
       "      <td>Male</td>\n",
       "      <td>44</td>\n",
       "      <td>4</td>\n",
       "      <td>142051.07</td>\n",
       "      <td>2</td>\n",
       "      <td>0</td>\n",
       "      <td>1</td>\n",
       "      <td>74940.50</td>\n",
       "      <td>0</td>\n",
       "    </tr>\n",
       "    <tr>\n",
       "      <th>9</th>\n",
       "      <td>684</td>\n",
       "      <td>France</td>\n",
       "      <td>Male</td>\n",
       "      <td>27</td>\n",
       "      <td>2</td>\n",
       "      <td>134603.88</td>\n",
       "      <td>1</td>\n",
       "      <td>1</td>\n",
       "      <td>1</td>\n",
       "      <td>71725.73</td>\n",
       "      <td>0</td>\n",
       "    </tr>\n",
       "  </tbody>\n",
       "</table>\n",
       "</div>"
      ],
      "text/plain": [
       "   CreditScore Geography  Gender  Age  Tenure    Balance  NumOfProducts  \\\n",
       "0          619    France  Female   42       2       0.00              1   \n",
       "1          608     Spain  Female   41       1   83807.86              1   \n",
       "2          502    France  Female   42       8  159660.80              3   \n",
       "3          699    France  Female   39       1       0.00              2   \n",
       "4          850     Spain  Female   43       2  125510.82              1   \n",
       "5          645     Spain    Male   44       8  113755.78              2   \n",
       "6          822    France    Male   50       7       0.00              2   \n",
       "7          376   Germany  Female   29       4  115046.74              4   \n",
       "8          501    France    Male   44       4  142051.07              2   \n",
       "9          684    France    Male   27       2  134603.88              1   \n",
       "\n",
       "   HasCrCard  IsActiveMember  EstimatedSalary  Exited  \n",
       "0          1               1        101348.88       1  \n",
       "1          0               1        112542.58       0  \n",
       "2          1               0        113931.57       1  \n",
       "3          0               0         93826.63       0  \n",
       "4          1               1         79084.10       0  \n",
       "5          1               0        149756.71       1  \n",
       "6          1               1         10062.80       0  \n",
       "7          1               0        119346.88       1  \n",
       "8          0               1         74940.50       0  \n",
       "9          1               1         71725.73       0  "
      ]
     },
     "execution_count": 5,
     "metadata": {},
     "output_type": "execute_result"
    }
   ],
   "source": [
    "Data = Data.drop(columns=['RowNumber', 'CustomerId', 'Surname'])\n",
    "\n",
    "\n",
    "Data.head(10)\n"
   ]
  },
  {
   "cell_type": "code",
   "execution_count": 6,
   "metadata": {},
   "outputs": [
    {
     "name": "stdout",
     "output_type": "stream",
     "text": [
      "<class 'pandas.core.frame.DataFrame'>\n",
      "RangeIndex: 10000 entries, 0 to 9999\n",
      "Data columns (total 11 columns):\n",
      " #   Column           Non-Null Count  Dtype  \n",
      "---  ------           --------------  -----  \n",
      " 0   CreditScore      10000 non-null  int64  \n",
      " 1   Geography        10000 non-null  object \n",
      " 2   Gender           10000 non-null  object \n",
      " 3   Age              10000 non-null  int64  \n",
      " 4   Tenure           10000 non-null  int64  \n",
      " 5   Balance          10000 non-null  float64\n",
      " 6   NumOfProducts    10000 non-null  int64  \n",
      " 7   HasCrCard        10000 non-null  int64  \n",
      " 8   IsActiveMember   10000 non-null  int64  \n",
      " 9   EstimatedSalary  10000 non-null  float64\n",
      " 10  Exited           10000 non-null  int64  \n",
      "dtypes: float64(2), int64(7), object(2)\n",
      "memory usage: 859.5+ KB\n"
     ]
    }
   ],
   "source": [
    "Data.info()"
   ]
  },
  {
   "cell_type": "code",
   "execution_count": 8,
   "metadata": {},
   "outputs": [
    {
     "data": {
      "text/plain": [
       "CreditScore        0\n",
       "Geography          0\n",
       "Gender             0\n",
       "Age                0\n",
       "Tenure             0\n",
       "Balance            0\n",
       "NumOfProducts      0\n",
       "HasCrCard          0\n",
       "IsActiveMember     0\n",
       "EstimatedSalary    0\n",
       "Exited             0\n",
       "dtype: int64"
      ]
     },
     "execution_count": 8,
     "metadata": {},
     "output_type": "execute_result"
    }
   ],
   "source": [
    "Data.isnull().sum()"
   ]
  },
  {
   "cell_type": "code",
   "execution_count": 17,
   "metadata": {},
   "outputs": [],
   "source": [
    "X = Data.drop('Exited', axis=1)\n",
    "y = Data['Exited']"
   ]
  },
  {
   "cell_type": "code",
   "execution_count": 60,
   "metadata": {},
   "outputs": [],
   "source": [
    "from sklearn.preprocessing import StandardScaler, OneHotEncoder\n",
    "numerical_cols = X.select_dtypes(include=['int64', 'float64']).columns.tolist()\n",
    "categorical_cols = ['Geography', 'Gender']\n"
   ]
  },
  {
   "cell_type": "code",
   "execution_count": 61,
   "metadata": {},
   "outputs": [],
   "source": [
    "numerical_transformer = StandardScaler()"
   ]
  },
  {
   "cell_type": "code",
   "execution_count": 62,
   "metadata": {},
   "outputs": [],
   "source": [
    "from sklearn.compose import ColumnTransformer\n",
    "categorical_transformer = ColumnTransformer(\n",
    "    transformers=[\n",
    "        ('geo', OneHotEncoder(drop='first'), ['Geography']),  \n",
    "        ('gender', OneHotEncoder(drop='first'), ['Gender']),\n",
    "    ],\n",
    "    remainder='passthrough' \n",
    ")\n"
   ]
  },
  {
   "cell_type": "code",
   "execution_count": 63,
   "metadata": {},
   "outputs": [],
   "source": [
    "preprocessor = ColumnTransformer(\n",
    "    transformers=[\n",
    "        ('num', numerical_transformer, numerical_cols),\n",
    "        ('cat', categorical_transformer, categorical_cols)\n",
    "    ]\n",
    ")"
   ]
  },
  {
   "cell_type": "code",
   "execution_count": 64,
   "metadata": {},
   "outputs": [],
   "source": [
    "from sklearn.model_selection import train_test_split\n",
    "X_train, X_test, y_train, y_test = train_test_split(X, y, test_size=0.2, random_state=42, stratify=y)"
   ]
  },
  {
   "cell_type": "code",
   "execution_count": 65,
   "metadata": {},
   "outputs": [],
   "source": [
    "from sklearn.pipeline import Pipeline\n",
    "pipeline = Pipeline(steps=[('preprocessor', preprocessor)])"
   ]
  },
  {
   "cell_type": "code",
   "execution_count": 66,
   "metadata": {},
   "outputs": [],
   "source": [
    "X_train = pipeline.fit_transform(X_train)\n",
    "X_test = pipeline.transform(X_test)"
   ]
  },
  {
   "cell_type": "code",
   "execution_count": 67,
   "metadata": {},
   "outputs": [
    {
     "data": {
      "text/plain": [
       "array([[ 1.058568  ,  1.71508648,  0.68472287, ...,  0.        ,\n",
       "         0.        ,  1.        ],\n",
       "       [ 0.91362605, -0.65993547, -0.6962018 , ...,  1.        ,\n",
       "         0.        ,  1.        ],\n",
       "       [ 1.07927399, -0.18493108, -1.73189531, ...,  1.        ,\n",
       "         0.        ,  0.        ],\n",
       "       ...,\n",
       "       [ 0.16821031, -0.18493108,  1.3751852 , ...,  0.        ,\n",
       "         0.        ,  0.        ],\n",
       "       [ 0.37527024, -0.37493284,  1.02995403, ...,  0.        ,\n",
       "         1.        ,  1.        ],\n",
       "       [ 1.56586482,  1.14508121,  0.68472287, ...,  0.        ,\n",
       "         1.        ,  1.        ]])"
      ]
     },
     "execution_count": 67,
     "metadata": {},
     "output_type": "execute_result"
    }
   ],
   "source": [
    "X_train"
   ]
  },
  {
   "cell_type": "code",
   "execution_count": 68,
   "metadata": {},
   "outputs": [
    {
     "data": {
      "text/plain": [
       "array([[-0.68073539, -0.27993196,  0.68472287, ...,  0.        ,\n",
       "         0.        ,  1.        ],\n",
       "       [-1.30191518, -0.5649346 , -0.35097064, ...,  1.        ,\n",
       "         0.        ,  1.        ],\n",
       "       [-0.97061929,  0.10007155, -0.35097064, ...,  0.        ,\n",
       "         1.        ,  0.        ],\n",
       "       ...,\n",
       "       [-1.39509214,  0.7650777 ,  1.3751852 , ...,  1.        ,\n",
       "         0.        ,  0.        ],\n",
       "       [ 0.39597623,  0.00507067,  0.68472287, ...,  0.        ,\n",
       "         0.        ,  1.        ],\n",
       "       [ 1.02750901, -0.5649346 , -1.04143297, ...,  0.        ,\n",
       "         0.        ,  1.        ]])"
      ]
     },
     "execution_count": 68,
     "metadata": {},
     "output_type": "execute_result"
    }
   ],
   "source": [
    "X_test"
   ]
  },
  {
   "cell_type": "code",
   "execution_count": 69,
   "metadata": {},
   "outputs": [],
   "source": [
    "from sklearn.linear_model import LogisticRegression\n",
    "from sklearn.ensemble import RandomForestClassifier, GradientBoostingClassifier\n",
    "models = {\n",
    "    'Logistic Regression': LogisticRegression(random_state=42),\n",
    "    'Random Forest': RandomForestClassifier(random_state=42, n_estimators=100),\n",
    "    'Gradient Boosting': GradientBoostingClassifier(random_state=42)\n",
    "}\n",
    "\n",
    "results = {}"
   ]
  },
  {
   "cell_type": "code",
   "execution_count": 70,
   "metadata": {},
   "outputs": [
    {
     "name": "stdout",
     "output_type": "stream",
     "text": [
      "Performance of Logistic Regression: Accuracy = 0.8080\n",
      "Detailed Classification Report for Logistic Regression:\n",
      "              precision    recall  f1-score   support\n",
      "\n",
      "           0       0.82      0.97      0.89      1593\n",
      "           1       0.59      0.19      0.28       407\n",
      "\n",
      "    accuracy                           0.81      2000\n",
      "   macro avg       0.71      0.58      0.59      2000\n",
      "weighted avg       0.78      0.81      0.77      2000\n",
      "\n",
      "\n",
      "Performance of Random Forest: Accuracy = 0.8640\n",
      "Detailed Classification Report for Random Forest:\n",
      "              precision    recall  f1-score   support\n",
      "\n",
      "           0       0.88      0.97      0.92      1593\n",
      "           1       0.78      0.46      0.58       407\n",
      "\n",
      "    accuracy                           0.86      2000\n",
      "   macro avg       0.83      0.71      0.75      2000\n",
      "weighted avg       0.86      0.86      0.85      2000\n",
      "\n",
      "\n",
      "Performance of Gradient Boosting: Accuracy = 0.8700\n",
      "Detailed Classification Report for Gradient Boosting:\n",
      "              precision    recall  f1-score   support\n",
      "\n",
      "           0       0.88      0.97      0.92      1593\n",
      "           1       0.79      0.49      0.60       407\n",
      "\n",
      "    accuracy                           0.87      2000\n",
      "   macro avg       0.84      0.73      0.76      2000\n",
      "weighted avg       0.86      0.87      0.86      2000\n",
      "\n",
      "\n"
     ]
    }
   ],
   "source": [
    "from sklearn.metrics import accuracy_score, classification_report\n",
    "\n",
    "# Iterate each model in the models dictionary to train and evaluate\n",
    "for model_name, model in models.items():\n",
    "\n",
    "    model.fit(X_train, y_train)\n",
    "\n",
    "    predictions = model.predict(X_test)\n",
    "    \n",
    "    #accuracy of the predictions\n",
    "    accuracy_value = accuracy_score(y_test, predictions)\n",
    "    print(f\"Performance of {model_name}: Accuracy = {accuracy_value:.4f}\")\n",
    "    \n",
    "    # print classification report\n",
    "    print(f\"Detailed Classification Report for {model_name}:\\n{classification_report(y_test, predictions)}\\n\")\n",
    "    \n",
    "    results[model_name] = {\n",
    "        'accuracy': accuracy_value,\n",
    "        'classification_report': classification_report(y_test, predictions, output_dict=True)\n",
    "    }\n"
   ]
  },
  {
   "cell_type": "code",
   "execution_count": 71,
   "metadata": {},
   "outputs": [
    {
     "name": "stdout",
     "output_type": "stream",
     "text": [
      " Accuracy = 0.8700\n",
      "Classification Report\n",
      "              precision    recall  f1-score   support\n",
      "\n",
      "           0       0.88      0.97      0.92      1593\n",
      "           1       0.79      0.49      0.60       407\n",
      "\n",
      "    accuracy                           0.87      2000\n",
      "   macro avg       0.84      0.73      0.76      2000\n",
      "weighted avg       0.86      0.87      0.86      2000\n",
      "\n"
     ]
    }
   ],
   "source": [
    "# Initialize Gradient Boosting model\n",
    "best_model = GradientBoostingClassifier(random_state=42)\n",
    "\n",
    "# training data\n",
    "best_model.fit(X_train, y_train)\n",
    "\n",
    "#  predictions on the test data\n",
    "y_pred = best_model.predict(X_test)\n",
    "\n",
    "# model performance\n",
    "accuracy = accuracy_score(y_test, y_pred)\n",
    "print(f' Accuracy = {accuracy:.4f}')\n",
    "\n",
    "# Print the detailed classification report\n",
    "print(f'Classification Report\\n{classification_report(y_test, y_pred)}')\n"
   ]
  },
  {
   "cell_type": "code",
   "execution_count": null,
   "metadata": {},
   "outputs": [],
   "source": []
  }
 ],
 "metadata": {
  "kernelspec": {
   "display_name": "Python 3",
   "language": "python",
   "name": "python3"
  },
  "language_info": {
   "codemirror_mode": {
    "name": "ipython",
    "version": 3
   },
   "file_extension": ".py",
   "mimetype": "text/x-python",
   "name": "python",
   "nbconvert_exporter": "python",
   "pygments_lexer": "ipython3",
   "version": "3.11.9"
  }
 },
 "nbformat": 4,
 "nbformat_minor": 2
}
